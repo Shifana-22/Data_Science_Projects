{
  "nbformat": 4,
  "nbformat_minor": 0,
  "metadata": {
    "colab": {
      "provenance": [],
      "include_colab_link": true
    },
    "kernelspec": {
      "name": "ir",
      "display_name": "R"
    },
    "language_info": {
      "name": "R"
    }
  },
  "cells": [
    {
      "cell_type": "markdown",
      "metadata": {
        "id": "view-in-github",
        "colab_type": "text"
      },
      "source": [
        "<a href=\"https://colab.research.google.com/github/Shifana-22/Data_Science_Projects/blob/PCOS_detection/Pre_processing_in_R.ipynb\" target=\"_parent\"><img src=\"https://colab.research.google.com/assets/colab-badge.svg\" alt=\"Open In Colab\"/></a>"
      ]
    },
    {
      "cell_type": "code",
      "execution_count": null,
      "metadata": {
        "colab": {
          "base_uri": "https://localhost:8080/"
        },
        "id": "gBASwOWPaWOK",
        "outputId": "0e5bb982-35f9-43fd-9d00-7bd915b488ec"
      },
      "outputs": [
        {
          "output_type": "stream",
          "name": "stderr",
          "text": [
            "Installing package into ‘/usr/local/lib/R/site-library’\n",
            "(as ‘lib’ is unspecified)\n",
            "\n"
          ]
        }
      ],
      "source": [
        "install.packages(\"readr\")"
      ]
    },
    {
      "cell_type": "code",
      "source": [
        "library(dplyr)\n",
        "library(readr)"
      ],
      "metadata": {
        "colab": {
          "base_uri": "https://localhost:8080/"
        },
        "id": "iOUBfJDia1-T",
        "outputId": "26e76fec-e69e-41c9-f178-5a2d4c6aa1bb"
      },
      "execution_count": null,
      "outputs": [
        {
          "output_type": "stream",
          "name": "stderr",
          "text": [
            "\n",
            "Attaching package: ‘dplyr’\n",
            "\n",
            "\n",
            "The following objects are masked from ‘package:stats’:\n",
            "\n",
            "    filter, lag\n",
            "\n",
            "\n",
            "The following objects are masked from ‘package:base’:\n",
            "\n",
            "    intersect, setdiff, setequal, union\n",
            "\n",
            "\n"
          ]
        }
      ]
    },
    {
      "cell_type": "code",
      "source": [
        "data <- read_csv(\"/content/PCOS_extended_dataset.csv\")"
      ],
      "metadata": {
        "colab": {
          "base_uri": "https://localhost:8080/"
        },
        "id": "y9JSltiya4vk",
        "outputId": "86b125a4-90cc-40e2-a218-e2edb45f4120"
      },
      "execution_count": null,
      "outputs": [
        {
          "output_type": "stream",
          "name": "stderr",
          "text": [
            "\u001b[1mRows: \u001b[22m\u001b[34m2000\u001b[39m \u001b[1mColumns: \u001b[22m\u001b[34m44\u001b[39m\n",
            "\u001b[36m──\u001b[39m \u001b[1mColumn specification\u001b[22m \u001b[36m────────────────────────────────────────────────────────\u001b[39m\n",
            "\u001b[1mDelimiter:\u001b[22m \",\"\n",
            "\u001b[31mchr\u001b[39m  (2): II    beta-HCG(mIU/mL), AMH(ng/mL)\n",
            "\u001b[32mdbl\u001b[39m (42): Sl. No, Patient File No., PCOS (Y/N), Age (yrs), Weight (Kg), Heig...\n",
            "\n",
            "\u001b[36mℹ\u001b[39m Use `spec()` to retrieve the full column specification for this data.\n",
            "\u001b[36mℹ\u001b[39m Specify the column types or set `show_col_types = FALSE` to quiet this message.\n"
          ]
        }
      ]
    },
    {
      "cell_type": "code",
      "source": [
        "summary(data)"
      ],
      "metadata": {
        "colab": {
          "base_uri": "https://localhost:8080/",
          "height": 1000
        },
        "id": "9XRhBeo0eXB6",
        "outputId": "b56e860c-04d0-4cf6-aff2-948680847097"
      },
      "execution_count": null,
      "outputs": [
        {
          "output_type": "display_data",
          "data": {
            "text/plain": [
              "     Sl. No      Patient File No.   PCOS (Y/N)      Age (yrs)    \n",
              " Min.   :  1.0   Min.   :  1.0    Min.   :0.000   Min.   :20.00  \n",
              " 1st Qu.:132.0   1st Qu.:132.0    1st Qu.:0.000   1st Qu.:28.00  \n",
              " Median :267.0   Median :267.0    Median :0.000   Median :31.00  \n",
              " Mean   :266.6   Mean   :266.6    Mean   :0.304   Mean   :31.35  \n",
              " 3rd Qu.:395.0   3rd Qu.:395.0    3rd Qu.:1.000   3rd Qu.:35.00  \n",
              " Max.   :541.0   Max.   :541.0    Max.   :1.000   Max.   :48.00  \n",
              "                                                                 \n",
              "  Weight (Kg)       Height(Cm)         BMI         Blood Group   \n",
              " Min.   : 30.74   Min.   :136.5   Min.   :11.94   Min.   :11.00  \n",
              " 1st Qu.: 52.25   1st Qu.:152.2   1st Qu.:21.77   1st Qu.:13.00  \n",
              " Median : 58.54   Median :156.4   Median :24.19   Median :14.00  \n",
              " Mean   : 59.53   Mean   :156.4   Mean   :24.28   Mean   :13.79  \n",
              " 3rd Qu.: 65.52   3rd Qu.:160.1   3rd Qu.:26.60   3rd Qu.:15.00  \n",
              " Max.   :113.38   Max.   :180.4   Max.   :40.45   Max.   :18.00  \n",
              "                                                                 \n",
              " Pulse rate(bpm) RR (breaths/min)    Hb(g/dl)       Cycle(R/I)   \n",
              " Min.   :13.00   Min.   :16.00    Min.   : 8.50   Min.   :2.000  \n",
              " 1st Qu.:72.00   1st Qu.:18.00    1st Qu.:10.50   1st Qu.:2.000  \n",
              " Median :72.00   Median :18.00    Median :11.00   Median :2.000  \n",
              " Mean   :73.24   Mean   :19.23    Mean   :11.15   Mean   :2.535  \n",
              " 3rd Qu.:74.00   3rd Qu.:20.00    3rd Qu.:11.70   3rd Qu.:4.000  \n",
              " Max.   :82.00   Max.   :28.00    Max.   :14.80   Max.   :5.000  \n",
              "                                                                 \n",
              " Cycle length(days) Marraige Status (Yrs) Pregnant(Y/N)    No. of abortions\n",
              " Min.   : 0.000     Min.   : 0.000        Min.   :0.0000   Min.   :0.000   \n",
              " 1st Qu.: 5.000     1st Qu.: 4.000        1st Qu.:0.0000   1st Qu.:0.000   \n",
              " Median : 5.000     Median : 7.000        Median :0.0000   Median :0.000   \n",
              " Mean   : 4.973     Mean   : 7.579        Mean   :0.3815   Mean   :0.301   \n",
              " 3rd Qu.: 5.000     3rd Qu.:10.000        3rd Qu.:1.0000   3rd Qu.:0.000   \n",
              " Max.   :12.000     Max.   :30.000        Max.   :1.0000   Max.   :5.000   \n",
              "                    NA's   :3                                              \n",
              " I   beta-HCG(mIU/mL) II    beta-HCG(mIU/mL)  FSH(mIU/mL)     \n",
              " Min.   :    1.30     Length:2000            Min.   :   0.21  \n",
              " 1st Qu.:    1.99     Class :character       1st Qu.:   3.39  \n",
              " Median :   12.37     Mode  :character       Median :   4.86  \n",
              " Mean   :  640.60                            Mean   :  12.94  \n",
              " 3rd Qu.:  300.53                            3rd Qu.:   6.47  \n",
              " Max.   :32460.97                            Max.   :5052.00  \n",
              "                                                              \n",
              "   LH(mIU/mL)           FSH/LH           Hip(inch)   Waist(inch)   \n",
              " Min.   :   0.020   Min.   :   0.000   Min.   :26   Min.   :24.00  \n",
              " 1st Qu.:   1.020   1st Qu.:   1.420   1st Qu.:36   1st Qu.:32.00  \n",
              " Median :   2.330   Median :   2.130   Median :38   Median :34.00  \n",
              " Mean   :   9.873   Mean   :   6.799   Mean   :38   Mean   :33.77  \n",
              " 3rd Qu.:   3.830   3rd Qu.:   3.870   3rd Qu.:40   3rd Qu.:36.00  \n",
              " Max.   :2018.000   Max.   :1372.830   Max.   :48   Max.   :47.00  \n",
              "                                                                   \n",
              " Waist:Hip Ratio   TSH (mIU/L)      AMH(ng/mL)          PRL(ng/mL)    \n",
              " Min.   :0.7600   Min.   : 0.040   Length:2000        Min.   :  0.40  \n",
              " 1st Qu.:0.8500   1st Qu.: 1.510   Class :character   1st Qu.: 14.64  \n",
              " Median :0.8900   Median : 2.285   Mode  :character   Median : 21.78  \n",
              " Mean   :0.8898   Mean   : 3.000                      Mean   : 24.49  \n",
              " 3rd Qu.:0.9300   3rd Qu.: 3.643                      3rd Qu.: 29.72  \n",
              " Max.   :0.9800   Max.   :65.000                      Max.   :128.24  \n",
              "                                                                      \n",
              " Vit D3 (ng/mL)      PRG(ng/mL)        RBS(mg/dl)     Weight gain(Y/N)\n",
              " Min.   :   0.00   Min.   : 0.0470   Min.   : 60.00   Min.   :0.0000  \n",
              " 1st Qu.:  20.80   1st Qu.: 0.2500   1st Qu.: 92.00   1st Qu.:0.0000  \n",
              " Median :  26.10   Median : 0.3200   Median :100.00   Median :0.0000  \n",
              " Mean   :  40.38   Mean   : 0.6884   Mean   : 99.81   Mean   :0.3805  \n",
              " 3rd Qu.:  35.66   3rd Qu.: 0.4600   3rd Qu.:107.00   3rd Qu.:1.0000  \n",
              " Max.   :6014.66   Max.   :85.0000   Max.   :350.00   Max.   :1.0000  \n",
              "                                                                      \n",
              " hair growth(Y/N) Skin darkening (Y/N) Hair loss(Y/N)    Pimples(Y/N)  \n",
              " Min.   :0.0000   Min.   :0.00         Min.   :0.0000   Min.   :0.000  \n",
              " 1st Qu.:0.0000   1st Qu.:0.00         1st Qu.:0.0000   1st Qu.:0.000  \n",
              " Median :0.0000   Median :0.00         Median :0.0000   Median :0.000  \n",
              " Mean   :0.2745   Mean   :0.29         Mean   :0.4435   Mean   :0.477  \n",
              " 3rd Qu.:1.0000   3rd Qu.:1.00         3rd Qu.:1.0000   3rd Qu.:1.000  \n",
              " Max.   :1.0000   Max.   :1.00         Max.   :1.0000   Max.   :1.000  \n",
              "                                                                       \n",
              " Fast food (Y/N) Reg.Exercise(Y/N) BP _Systolic (mmHg) BP _Diastolic (mmHg)\n",
              " Min.   :0.000   Min.   :0.0000    Min.   : 11.53      Min.   :  7.681     \n",
              " 1st Qu.:0.000   1st Qu.:0.0000    1st Qu.:109.56      1st Qu.: 72.434     \n",
              " Median :1.000   Median :0.0000    Median :114.56      Median : 78.341     \n",
              " Mean   :0.517   Mean   :0.2575    Mean   :114.70      Mean   : 76.989     \n",
              " 3rd Qu.:1.000   3rd Qu.:1.0000    3rd Qu.:120.19      3rd Qu.: 81.186     \n",
              " Max.   :1.000   Max.   :1.0000    Max.   :144.98      Max.   :104.267     \n",
              "                                                                           \n",
              " Follicle No. (L) Follicle No. (R) Avg. F size (L) (mm) Avg. F size (R) (mm)\n",
              " Min.   : 0.00    Min.   : 0.000   Min.   : 0.00        Min.   : 0.00       \n",
              " 1st Qu.: 3.00    1st Qu.: 3.000   1st Qu.:13.00        1st Qu.:13.00       \n",
              " Median : 5.00    Median : 6.000   Median :15.00        Median :16.00       \n",
              " Mean   : 6.09    Mean   : 6.503   Mean   :14.88        Mean   :15.41       \n",
              " 3rd Qu.: 8.25    3rd Qu.: 9.000   3rd Qu.:18.00        3rd Qu.:18.00       \n",
              " Max.   :22.00    Max.   :20.000   Max.   :24.00        Max.   :24.00       \n",
              "                                                                            \n",
              " Endometrium (mm)\n",
              " Min.   : 0.000  \n",
              " 1st Qu.: 7.100  \n",
              " Median : 8.435  \n",
              " Mean   : 8.572  \n",
              " 3rd Qu.: 9.877  \n",
              " Max.   :18.675  \n",
              "                 "
            ]
          },
          "metadata": {}
        }
      ]
    },
    {
      "cell_type": "code",
      "source": [
        "str(data)"
      ],
      "metadata": {
        "colab": {
          "base_uri": "https://localhost:8080/"
        },
        "id": "Xhb6fXHGa73w",
        "outputId": "880ec4c8-6df9-4180-ef14-4da1661c9791"
      },
      "execution_count": null,
      "outputs": [
        {
          "output_type": "stream",
          "name": "stdout",
          "text": [
            "spc_tbl_ [2,000 × 44] (S3: spec_tbl_df/tbl_df/tbl/data.frame)\n",
            " $ Sl. No                : num [1:2000] 193 360 10 278 71 473 397 315 487 88 ...\n",
            " $ Patient File No.      : num [1:2000] 193 360 10 278 71 473 397 315 487 88 ...\n",
            " $ PCOS (Y/N)            : num [1:2000] 0 0 0 1 0 1 0 1 1 0 ...\n",
            " $ Age (yrs)             : num [1:2000] 30 36 36 29 33 26 31 34 30 40 ...\n",
            " $ Weight (Kg)           : num [1:2000] 70 63.7 51.8 66.9 52.5 ...\n",
            " $ Height(Cm)            : num [1:2000] 168 154 149 149 151 ...\n",
            " $ BMI                   : num [1:2000] 23.2 25.4 23.9 27.9 23.1 ...\n",
            " $ Blood Group           : num [1:2000] 12 13 15 15 13 11 15 11 11 11 ...\n",
            " $ Pulse rate(bpm)       : num [1:2000] 72 70 80 72 72 72 72 78 74 80 ...\n",
            " $ RR (breaths/min)      : num [1:2000] 22 18 20 18 18 18 18 20 18 20 ...\n",
            " $ Hb(g/dl)              : num [1:2000] 12 10.5 10 12 10.2 12 12.8 11 11.7 10.3 ...\n",
            " $ Cycle(R/I)            : num [1:2000] 4 2 4 4 2 2 2 2 4 2 ...\n",
            " $ Cycle length(days)    : num [1:2000] 5 6 2 5 5 5 6 6 2 5 ...\n",
            " $ Marraige Status (Yrs) : num [1:2000] 10 12 4 9 9 6 6 10 4 8 ...\n",
            " $ Pregnant(Y/N)         : num [1:2000] 1 1 0 0 0 1 1 0 1 1 ...\n",
            " $ No. of abortions      : num [1:2000] 1 0 0 0 0 1 0 0 0 0 ...\n",
            " $ I   beta-HCG(mIU/mL)  : num [1:2000] 455.8 418.9 1.99 1.99 4.42 ...\n",
            " $ II    beta-HCG(mIU/mL): chr [1:2000] \"121.8\" \"418.9\" \"1.99\" \"1.99\" ...\n",
            " $ FSH(mIU/mL)           : num [1:2000] 5.7 2.85 2.8 2.56 4.85 5.05 1.58 6.47 7.59 1 ...\n",
            " $ LH(mIU/mL)            : num [1:2000] 2.37 1.71 1.51 2.41 0.72 2.01 0.24 5.57 6.69 0.02 ...\n",
            " $ FSH/LH                : num [1:2000] 2.41 1.67 1.85 1.06 6.74 2.51 6.58 1.16 1.13 50 ...\n",
            " $ Hip(inch)             : num [1:2000] 37 38 40 36 40 42 40 36 36 38 ...\n",
            " $ Waist(inch)           : num [1:2000] 32 35 38 34 33 38 37 32 32 34 ...\n",
            " $ Waist:Hip Ratio       : num [1:2000] 0.86 0.92 0.95 0.94 0.83 0.9 0.93 0.89 0.89 0.89 ...\n",
            " $ TSH (mIU/L)           : num [1:2000] 2.36 1.54 6.65 2.86 2 1.27 6.91 3.01 3.58 1.52 ...\n",
            " $ AMH(ng/mL)            : chr [1:2000] \"5.76\" \"3.09\" \"1.61\" \"7.3\" ...\n",
            " $ PRL(ng/mL)            : num [1:2000] 10.8 26.1 11.7 12.9 15.6 ...\n",
            " $ Vit D3 (ng/mL)        : num [1:2000] 28.7 20.2 27.7 19 42.4 ...\n",
            " $ PRG(ng/mL)            : num [1:2000] 0.25 0.31 0.25 0.39 0.52 0.24 0.5 0.35 0.39 0.75 ...\n",
            " $ RBS(mg/dl)            : num [1:2000] 108 95 125 92 92 92 87 100 116 125 ...\n",
            " $ Weight gain(Y/N)      : num [1:2000] 0 1 0 0 0 1 1 0 0 0 ...\n",
            " $ hair growth(Y/N)      : num [1:2000] 1 0 0 1 0 0 0 1 1 0 ...\n",
            " $ Skin darkening (Y/N)  : num [1:2000] 0 0 0 1 0 0 0 1 1 0 ...\n",
            " $ Hair loss(Y/N)        : num [1:2000] 0 1 0 1 0 0 1 0 0 0 ...\n",
            " $ Pimples(Y/N)          : num [1:2000] 1 1 0 0 0 1 1 1 0 0 ...\n",
            " $ Fast food (Y/N)       : num [1:2000] 0 0 0 0 0 1 0 1 1 0 ...\n",
            " $ Reg.Exercise(Y/N)     : num [1:2000] 1 1 0 1 0 0 0 0 1 0 ...\n",
            " $ BP _Systolic (mmHg)   : num [1:2000] 105.5 115.9 112.2 104.6 99.2 ...\n",
            " $ BP _Diastolic (mmHg)  : num [1:2000] 76.1 79.1 80.9 69.9 70.3 ...\n",
            " $ Follicle No. (L)      : num [1:2000] 2 2 1 1 5 12 4 5 16 11 ...\n",
            " $ Follicle No. (R)      : num [1:2000] 4 3 1 1 2 14 9 5 16 9 ...\n",
            " $ Avg. F size (L) (mm)  : num [1:2000] 10 13 14 12 11.5 19 12 12 19 17 ...\n",
            " $ Avg. F size (R) (mm)  : num [1:2000] 13 11 17 14 4.7 18 15 10 19 18 ...\n",
            " $ Endometrium (mm)      : num [1:2000] 6.18 6.82 2.57 9.96 6.66 ...\n",
            " - attr(*, \"spec\")=\n",
            "  .. cols(\n",
            "  ..   `Sl. No` = \u001b[32mcol_double()\u001b[39m,\n",
            "  ..   `Patient File No.` = \u001b[32mcol_double()\u001b[39m,\n",
            "  ..   `PCOS (Y/N)` = \u001b[32mcol_double()\u001b[39m,\n",
            "  ..   `Age (yrs)` = \u001b[32mcol_double()\u001b[39m,\n",
            "  ..   `Weight (Kg)` = \u001b[32mcol_double()\u001b[39m,\n",
            "  ..   `Height(Cm)` = \u001b[32mcol_double()\u001b[39m,\n",
            "  ..   BMI = \u001b[32mcol_double()\u001b[39m,\n",
            "  ..   `Blood Group` = \u001b[32mcol_double()\u001b[39m,\n",
            "  ..   `Pulse rate(bpm)` = \u001b[32mcol_double()\u001b[39m,\n",
            "  ..   `RR (breaths/min)` = \u001b[32mcol_double()\u001b[39m,\n",
            "  ..   `Hb(g/dl)` = \u001b[32mcol_double()\u001b[39m,\n",
            "  ..   `Cycle(R/I)` = \u001b[32mcol_double()\u001b[39m,\n",
            "  ..   `Cycle length(days)` = \u001b[32mcol_double()\u001b[39m,\n",
            "  ..   `Marraige Status (Yrs)` = \u001b[32mcol_double()\u001b[39m,\n",
            "  ..   `Pregnant(Y/N)` = \u001b[32mcol_double()\u001b[39m,\n",
            "  ..   `No. of abortions` = \u001b[32mcol_double()\u001b[39m,\n",
            "  ..   `I   beta-HCG(mIU/mL)` = \u001b[32mcol_double()\u001b[39m,\n",
            "  ..   `II    beta-HCG(mIU/mL)` = \u001b[31mcol_character()\u001b[39m,\n",
            "  ..   `FSH(mIU/mL)` = \u001b[32mcol_double()\u001b[39m,\n",
            "  ..   `LH(mIU/mL)` = \u001b[32mcol_double()\u001b[39m,\n",
            "  ..   `FSH/LH` = \u001b[32mcol_double()\u001b[39m,\n",
            "  ..   `Hip(inch)` = \u001b[32mcol_double()\u001b[39m,\n",
            "  ..   `Waist(inch)` = \u001b[32mcol_double()\u001b[39m,\n",
            "  ..   `Waist:Hip Ratio` = \u001b[32mcol_double()\u001b[39m,\n",
            "  ..   `TSH (mIU/L)` = \u001b[32mcol_double()\u001b[39m,\n",
            "  ..   `AMH(ng/mL)` = \u001b[31mcol_character()\u001b[39m,\n",
            "  ..   `PRL(ng/mL)` = \u001b[32mcol_double()\u001b[39m,\n",
            "  ..   `Vit D3 (ng/mL)` = \u001b[32mcol_double()\u001b[39m,\n",
            "  ..   `PRG(ng/mL)` = \u001b[32mcol_double()\u001b[39m,\n",
            "  ..   `RBS(mg/dl)` = \u001b[32mcol_double()\u001b[39m,\n",
            "  ..   `Weight gain(Y/N)` = \u001b[32mcol_double()\u001b[39m,\n",
            "  ..   `hair growth(Y/N)` = \u001b[32mcol_double()\u001b[39m,\n",
            "  ..   `Skin darkening (Y/N)` = \u001b[32mcol_double()\u001b[39m,\n",
            "  ..   `Hair loss(Y/N)` = \u001b[32mcol_double()\u001b[39m,\n",
            "  ..   `Pimples(Y/N)` = \u001b[32mcol_double()\u001b[39m,\n",
            "  ..   `Fast food (Y/N)` = \u001b[32mcol_double()\u001b[39m,\n",
            "  ..   `Reg.Exercise(Y/N)` = \u001b[32mcol_double()\u001b[39m,\n",
            "  ..   `BP _Systolic (mmHg)` = \u001b[32mcol_double()\u001b[39m,\n",
            "  ..   `BP _Diastolic (mmHg)` = \u001b[32mcol_double()\u001b[39m,\n",
            "  ..   `Follicle No. (L)` = \u001b[32mcol_double()\u001b[39m,\n",
            "  ..   `Follicle No. (R)` = \u001b[32mcol_double()\u001b[39m,\n",
            "  ..   `Avg. F size (L) (mm)` = \u001b[32mcol_double()\u001b[39m,\n",
            "  ..   `Avg. F size (R) (mm)` = \u001b[32mcol_double()\u001b[39m,\n",
            "  ..   `Endometrium (mm)` = \u001b[32mcol_double()\u001b[39m\n",
            "  .. )\n",
            " - attr(*, \"problems\")=<externalptr> \n"
          ]
        }
      ]
    },
    {
      "cell_type": "markdown",
      "source": [
        "CHECK MISSING DATA VALUES"
      ],
      "metadata": {
        "id": "6MVb0_JGbDhS"
      }
    },
    {
      "cell_type": "code",
      "source": [
        "# Check for missing values\n",
        "missing_values <- colSums(is.na(data))\n",
        "print(missing_values)"
      ],
      "metadata": {
        "colab": {
          "base_uri": "https://localhost:8080/"
        },
        "id": "KNpCXNJma-b8",
        "outputId": "f9d7af82-759f-4ee8-89df-e15ec42e11b3"
      },
      "execution_count": null,
      "outputs": [
        {
          "output_type": "stream",
          "name": "stdout",
          "text": [
            "                Sl. No       Patient File No.             PCOS (Y/N) \n",
            "                     0                      0                      0 \n",
            "             Age (yrs)            Weight (Kg)             Height(Cm) \n",
            "                     0                      0                      0 \n",
            "                   BMI            Blood Group        Pulse rate(bpm) \n",
            "                     0                      0                      0 \n",
            "      RR (breaths/min)               Hb(g/dl)             Cycle(R/I) \n",
            "                     0                      0                      0 \n",
            "    Cycle length(days)  Marraige Status (Yrs)          Pregnant(Y/N) \n",
            "                     0                      3                      0 \n",
            "      No. of abortions   I   beta-HCG(mIU/mL) II    beta-HCG(mIU/mL) \n",
            "                     0                      0                      0 \n",
            "           FSH(mIU/mL)             LH(mIU/mL)                 FSH/LH \n",
            "                     0                      0                      0 \n",
            "             Hip(inch)            Waist(inch)        Waist:Hip Ratio \n",
            "                     0                      0                      0 \n",
            "           TSH (mIU/L)             AMH(ng/mL)             PRL(ng/mL) \n",
            "                     0                      0                      0 \n",
            "        Vit D3 (ng/mL)             PRG(ng/mL)             RBS(mg/dl) \n",
            "                     0                      0                      0 \n",
            "      Weight gain(Y/N)       hair growth(Y/N)   Skin darkening (Y/N) \n",
            "                     0                      0                      0 \n",
            "        Hair loss(Y/N)           Pimples(Y/N)        Fast food (Y/N) \n",
            "                     0                      0                      0 \n",
            "     Reg.Exercise(Y/N)    BP _Systolic (mmHg)   BP _Diastolic (mmHg) \n",
            "                     0                      0                      0 \n",
            "      Follicle No. (L)       Follicle No. (R)   Avg. F size (L) (mm) \n",
            "                     0                      0                      0 \n",
            "  Avg. F size (R) (mm)       Endometrium (mm) \n",
            "                     0                      0 \n"
          ]
        }
      ]
    },
    {
      "cell_type": "code",
      "source": [
        "# Check for duplicates\n",
        "duplicates <- data[duplicated(data), ]\n",
        "print(duplicates)\n"
      ],
      "metadata": {
        "colab": {
          "base_uri": "https://localhost:8080/"
        },
        "id": "bVirvbgTbGyW",
        "outputId": "0dc76fe6-32c8-4ff3-ff9d-023fc4865536"
      },
      "execution_count": null,
      "outputs": [
        {
          "output_type": "stream",
          "name": "stdout",
          "text": [
            "\u001b[90m# A tibble: 0 × 44\u001b[39m\n",
            "\u001b[90m# ℹ 44 variables: Sl. No <dbl>, Patient File No. <dbl>, PCOS (Y/N) <dbl>,\u001b[39m\n",
            "\u001b[90m#   Age (yrs) <dbl>, Weight (Kg) <dbl>, Height(Cm) <dbl>, BMI <dbl>,\u001b[39m\n",
            "\u001b[90m#   Blood Group <dbl>, Pulse rate(bpm) <dbl>, RR (breaths/min) <dbl>,\u001b[39m\n",
            "\u001b[90m#   Hb(g/dl) <dbl>, Cycle(R/I) <dbl>, Cycle length(days) <dbl>,\u001b[39m\n",
            "\u001b[90m#   Marraige Status (Yrs) <dbl>, Pregnant(Y/N) <dbl>, No. of abortions <dbl>,\u001b[39m\n",
            "\u001b[90m#   I   beta-HCG(mIU/mL) <dbl>, II    beta-HCG(mIU/mL) <chr>,\u001b[39m\n",
            "\u001b[90m#   FSH(mIU/mL) <dbl>, LH(mIU/mL) <dbl>, FSH/LH <dbl>, Hip(inch) <dbl>, …\u001b[39m\n"
          ]
        }
      ]
    },
    {
      "cell_type": "code",
      "source": [
        "# Remove duplicates\n",
        "cleaned_data <- distinct(data)\n"
      ],
      "metadata": {
        "id": "17WU-BGabKCZ"
      },
      "execution_count": null,
      "outputs": []
    },
    {
      "cell_type": "markdown",
      "source": [
        "# DATA VISUALIZATION"
      ],
      "metadata": {
        "id": "ZgeAr8qwf57i"
      }
    },
    {
      "cell_type": "code",
      "source": [
        "# Visualization - Histogram of Age\n",
        "ggplot(data, aes(x = `Age (yrs)`)) +\n",
        "  geom_histogram(binwidth = 1, fill = \"skyblue\", color = \"black\") +\n",
        "  labs(title = \"Distribution of Age\",\n",
        "       x = \"Age (years)\",\n",
        "       y = \"Frequency\")\n"
      ],
      "metadata": {
        "colab": {
          "base_uri": "https://localhost:8080/",
          "height": 437
        },
        "id": "q72rY4hagAS5",
        "outputId": "106df935-ea31-4837-ba29-68e8652bf0c3"
      },
      "execution_count": null,
      "outputs": [
        {
          "output_type": "display_data",
          "data": {
            "text/plain": [
              "plot without title"
            ],
            "image/png": "[encoded data removed]"
          },
          "metadata": {
            "image/png": {
              "width": 420,
              "height": 420
            }
          }
        }
      ]
    },
    {
      "cell_type": "code",
      "source": [
        "mydata1 <- read.csv(\"pcos.csv\")\n"
      ],
      "metadata": {
        "id": "a8bt6J2suqXR"
      },
      "execution_count": null,
      "outputs": []
    },
    {
      "cell_type": "code",
      "source": [
        "library(ggplot2)\n"
      ],
      "metadata": {
        "id": "J0TiS7TkuRyA"
      },
      "execution_count": null,
      "outputs": []
    },
    {
      "cell_type": "code",
      "source": [
        "# Visualization - Bar plot of PCOS cases\n",
        "pcos_counts <- data %>%\n",
        "  count(`PCOS (Y/N)`)\n",
        "\n",
        "ggplot(pcos_counts, aes(x = factor(`PCOS (Y/N)`), y = n)) +\n",
        "  geom_bar(stat = \"identity\", fill = \"skyblue\", color = \"black\") +\n",
        "  labs(title = \"Distribution of PCOS Cases\",\n",
        "       x = \"PCOS (Yes/No)\",\n",
        "       y = \"Count\")\n"
      ],
      "metadata": {
        "colab": {
          "base_uri": "https://localhost:8080/",
          "height": 437
        },
        "id": "g8lbMIsNfKK2",
        "outputId": "34a8b35a-d197-4a50-c9e1-2d6e7ace9f17"
      },
      "execution_count": null,
      "outputs": [
        {
          "output_type": "display_data",
          "data": {
            "text/plain": [
              "plot without title"
            ],
            "image/png": "[encoded data removed]"
          },
          "metadata": {
            "image/png": {
              "width": 420,
              "height": 420
            }
          }
        }
      ]
    },
    {
      "cell_type": "code",
      "source": [
        "# Convert AMH column to numeric\n",
        "data$`AMH(ng/mL)` <- as.numeric(data$`AMH(ng/mL)`)\n",
        "\n",
        "# Visualization - Histogram of AMH levels\n",
        "ggplot(data, aes(x = `AMH(ng/mL)`)) +\n",
        "  geom_histogram(binwidth = 1, fill = \"skyblue\", color = \"black\") +\n",
        "  labs(title = \"Distribution of AMH Levels\",\n",
        "       x = \"AMH (ng/mL)\",\n",
        "       y = \"Frequency\")\n"
      ],
      "metadata": {
        "colab": {
          "base_uri": "https://localhost:8080/",
          "height": 506
        },
        "id": "8zmwLDH5gCcN",
        "outputId": "80c0f225-e512-4d06-b90c-a1fe964116c7"
      },
      "execution_count": null,
      "outputs": [
        {
          "output_type": "stream",
          "name": "stderr",
          "text": [
            "Warning message in eval(expr, envir, enclos):\n",
            "“NAs introduced by coercion”\n",
            "Warning message:\n",
            "“\u001b[1m\u001b[22mRemoved 3 rows containing non-finite values (`stat_bin()`).”\n"
          ]
        },
        {
          "output_type": "display_data",
          "data": {
            "text/plain": [
              "plot without title"
            ],
            "image/png": "[encoded data removed]"
          },
          "metadata": {
            "image/png": {
              "width": 420,
              "height": 420
            }
          }
        }
      ]
    },
    {
      "cell_type": "markdown",
      "source": [],
      "metadata": {
        "id": "DadJrmNxgHVE"
      }
    },
    {
      "cell_type": "markdown",
      "source": [
        "BOX PLOT ANALYSIS"
      ],
      "metadata": {
        "id": "kXlfuXqHbdTg"
      }
    },
    {
      "cell_type": "code",
      "source": [
        "install.packages(\"tidyverse\")\n",
        "library(tidyverse)\n",
        "library(ggplot2)"
      ],
      "metadata": {
        "colab": {
          "base_uri": "https://localhost:8080/"
        },
        "id": "mD4BFd0JbMQq",
        "outputId": "42a85cd2-48fa-4073-9de7-521dde2ed922"
      },
      "execution_count": null,
      "outputs": [
        {
          "output_type": "stream",
          "name": "stderr",
          "text": [
            "Installing package into ‘/usr/local/lib/R/site-library’\n",
            "(as ‘lib’ is unspecified)\n",
            "\n",
            "── \u001b[1mAttaching core tidyverse packages\u001b[22m ──────────────────────── tidyverse 2.0.0 ──\n",
            "\u001b[32m✔\u001b[39m \u001b[34mforcats  \u001b[39m 1.0.0     \u001b[32m✔\u001b[39m \u001b[34mstringr  \u001b[39m 1.5.1\n",
            "\u001b[32m✔\u001b[39m \u001b[34mggplot2  \u001b[39m 3.4.4     \u001b[32m✔\u001b[39m \u001b[34mtibble   \u001b[39m 3.2.1\n",
            "\u001b[32m✔\u001b[39m \u001b[34mlubridate\u001b[39m 1.9.3     \u001b[32m✔\u001b[39m \u001b[34mtidyr    \u001b[39m 1.3.1\n",
            "\u001b[32m✔\u001b[39m \u001b[34mpurrr    \u001b[39m 1.0.2     \n",
            "── \u001b[1mConflicts\u001b[22m ────────────────────────────────────────── tidyverse_conflicts() ──\n",
            "\u001b[31m✖\u001b[39m \u001b[34mdplyr\u001b[39m::\u001b[32mfilter()\u001b[39m masks \u001b[34mstats\u001b[39m::filter()\n",
            "\u001b[31m✖\u001b[39m \u001b[34mdplyr\u001b[39m::\u001b[32mlag()\u001b[39m    masks \u001b[34mstats\u001b[39m::lag()\n",
            "\u001b[36mℹ\u001b[39m Use the conflicted package (\u001b[3m\u001b[34m<http://conflicted.r-lib.org/>\u001b[39m\u001b[23m) to force all conflicts to become errors\n"
          ]
        }
      ]
    },
    {
      "cell_type": "code",
      "source": [
        "# Create box plots for major factors\n",
        "boxplot_data <- data[, c(\"Age (yrs)\", \"Weight (Kg)\", \"Height(Cm)\", \"BMI\", \"Cycle length(days)\")]\n",
        "boxplot(boxplot_data, main = \"Boxplot of Major Factors\")\n"
      ],
      "metadata": {
        "colab": {
          "base_uri": "https://localhost:8080/",
          "height": 437
        },
        "id": "9xFwgtu4bnf5",
        "outputId": "7f10127d-6eda-4dad-88c6-3a02bd89b473"
      },
      "execution_count": null,
      "outputs": [
        {
          "output_type": "display_data",
          "data": {
            "text/plain": [
              "Plot with title “Boxplot of Major Factors”"
            ],
            "image/png": "[encoded data removed]"
          },
          "metadata": {
            "image/png": {
              "width": 420,
              "height": 420
            }
          }
        }
      ]
    },
    {
      "cell_type": "markdown",
      "source": [
        "TOTAL AND AVERAGE NUMBER OF CASES"
      ],
      "metadata": {
        "id": "iiBNThDxgIV7"
      }
    },
    {
      "cell_type": "code",
      "source": [
        "# Calculate total number of cases and average daily cases across all countries\n",
        "total_cases <- nrow(data)\n",
        "average_daily_cases <- mean(data$`PCOS (Y/N)`)\n",
        "\n",
        "# Print the results\n",
        "print(paste(\"Total number of cases:\", total_cases))\n",
        "print(paste(\"Average daily cases across all countries:\", average_daily_cases))"
      ],
      "metadata": {
        "colab": {
          "base_uri": "https://localhost:8080/"
        },
        "id": "hDKGMbjbgIrf",
        "outputId": "1d479a28-894d-4100-b6bc-3d11d663dcee"
      },
      "execution_count": null,
      "outputs": [
        {
          "output_type": "stream",
          "name": "stdout",
          "text": [
            "[1] \"Total number of cases: 2000\"\n",
            "[1] \"Average daily cases across all countries: 0.304\"\n"
          ]
        }
      ]
    }
  ]
}